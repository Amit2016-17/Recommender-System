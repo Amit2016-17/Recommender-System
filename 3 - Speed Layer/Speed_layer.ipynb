{
 "cells": [
  {
   "cell_type": "markdown",
   "metadata": {
    "deletable": true,
    "editable": true
   },
   "source": [
    "# CASSANDRA STRUCTURES"
   ]
  },
  {
   "cell_type": "code",
   "execution_count": 45,
   "metadata": {
    "collapsed": true,
    "deletable": true,
    "editable": true
   },
   "outputs": [],
   "source": [
    "#create KEYSPACE assignment3 WITH replication =  \n",
    "#{'class': 'SimpleStrategy', 'replication_factor': 1};\n",
    "\n",
    "\n",
    "\n",
    "#create table avgPastPop(\n",
    "#               ... movieid text,\n",
    "#               ... average decimal,\n",
    "#               ... PRIMARY KEY(movieid)\n",
    "#               ... );\n",
    "\n",
    "\n",
    "#create table totEng(\n",
    "#               ... time text,\n",
    "#               ... total int,\n",
    "#               ... PRIMARY KEY(time)\n",
    "#               ... );\n",
    "\n",
    "#create table engPerUser(\n",
    "#               ... userid text,\n",
    "#               ... eng int,\n",
    "#               ... noneng int,\n",
    "#               ... PRIMARY KEY(userid)\n",
    "#               ... );\n"
   ]
  },
  {
   "cell_type": "markdown",
   "metadata": {
    "deletable": true,
    "editable": true
   },
   "source": [
    "## IMPORTS"
   ]
  },
  {
   "cell_type": "code",
   "execution_count": 46,
   "metadata": {
    "collapsed": true,
    "deletable": true,
    "editable": true
   },
   "outputs": [],
   "source": [
    "from pyspark.sql import functions as F\n",
    "from datetime import datetime\n",
    "from operator import add\n",
    "from pyspark.sql import Row\n",
    "from pyspark.streaming import StreamingContext\n",
    "import time"
   ]
  },
  {
   "cell_type": "markdown",
   "metadata": {
    "deletable": true,
    "editable": true
   },
   "source": [
    "## FUNCTIONS USED IN THE ASSIGNMENT"
   ]
  },
  {
   "cell_type": "code",
   "execution_count": 47,
   "metadata": {
    "collapsed": true,
    "deletable": true,
    "editable": true
   },
   "outputs": [],
   "source": [
    "# function to return engagements (favorites + retweets)\n",
    "def retEng(tweet):\n",
    "    tweet_parts = tweet.split(',')\n",
    "    sum = int(tweet_parts[4]) + int(tweet_parts[5])\n",
    "    return sum\n",
    "\n",
    "\n",
    "#function to return the average of past popularity and current popularity\n",
    "def getAverage(time, rdd):\n",
    "    print(\"========= %s =========\" % str(time))\n",
    "    try:\n",
    "        rowRdd = rdd.map(lambda w: Row(movieid=w[0], average=w[1]))\n",
    "        twitterDataFrame = spark.createDataFrame(rowRdd)\n",
    "        twitterDataFrame.registerTempTable(\"twitterDF\")\n",
    "        twitterDF = sqlContext.sql(\"select tdf.movieid, ((tdf.average \"+\\\n",
    "                                   \"+ p.engagement) / 2) as average \"+\\\n",
    "                                   \"from twitterDF tdf join past p \"+\\\n",
    "                                   \"on tdf.movieid = p.movie\")\n",
    "        twitterDF.sort(F.desc(\"average\")).show(20,False)\n",
    "#code to write data in cassandra        \n",
    "        twitterDF.write.format(\"org.apache.spark.sql.cassandra\")\\\n",
    "        .options(table=\"avgpastpop\", keyspace=\"assignment3\")\\\n",
    "        .save(mode=\"append\")\n",
    "    except:\n",
    "        pass\n",
    "\n",
    "#function to calculate the total engagements recieved by movies in one batch\n",
    "def getTotEng(time, rdd):\n",
    "    print(\"========= %s =========\" % str(time))\n",
    "    try:\n",
    "        Totdf = spark.createDataFrame(rdd.map(lambda row: Row(time = time, total=row[1])))\n",
    "        Totdf.sort(F.desc(\"total\")).show(20,False);\n",
    "        \n",
    "        Totdf.write.format(\"org.apache.spark.sql.cassandra\")\\\n",
    "        .options(table=\"toteng\", keyspace=\"assignment3\")\\\n",
    "        .save(mode=\"append\")\n",
    "        \n",
    "    except:\n",
    "        pass\n",
    "\n",
    "#function to calculate tweets with and without interactions, per user, per hour\n",
    "def tweetsZeroNonZero(time, rdd):\n",
    "    print(\"========= %s =========\" % str(time))\n",
    "    try:\n",
    "        engagementRdd = rdd.filter(lambda row: row[1] > 0).map(lambda row: ((row[0][1]), 1))\n",
    "        noEngagementRdd = rdd.filter(lambda row: row[1] == 0).map(lambda row: ((row[0][1]), 1))\n",
    "        engagementByUser = engagementRdd.reduceByKey(lambda x, y: x + y)\n",
    "        noEngagementByUser = noEngagementRdd.reduceByKey(lambda x, y: x + y)\n",
    "        joinedRDD = engagementByUser.fullOuterJoin(noEngagementByUser)\n",
    "        joinedRowRDD = joinedRDD.map(lambda w: Row(userid=w[0], eng=w[1][0], noneng=w[1][1]))\n",
    "        \n",
    "        tweetUserDF = spark.createDataFrame(joinedRowRDD)\n",
    "        \n",
    "        tweetUserDF.show()\n",
    "        \n",
    "        tweetUserDF.write.format(\"org.apache.spark.sql.cassandra\")\\\n",
    "        .options(table=\"engperuser\", keyspace=\"assignment3\")\\\n",
    "        .save(mode=\"append\")\n",
    "    except:\n",
    "        pass\n"
   ]
  },
  {
   "cell_type": "markdown",
   "metadata": {
    "deletable": true,
    "editable": true
   },
   "source": [
    "## Past Data"
   ]
  },
  {
   "cell_type": "code",
   "execution_count": 35,
   "metadata": {
    "collapsed": true,
    "deletable": true,
    "editable": true
   },
   "outputs": [],
   "source": [
    "dataset = spark.read.json(\"/root/twitter.medium\")"
   ]
  },
  {
   "cell_type": "code",
   "execution_count": 36,
   "metadata": {
    "collapsed": true,
    "deletable": true,
    "editable": true
   },
   "outputs": [],
   "source": [
    "dataset.registerTempTable(\"tweets\")"
   ]
  },
  {
   "cell_type": "code",
   "execution_count": 37,
   "metadata": {
    "collapsed": true,
    "deletable": true,
    "editable": true
   },
   "outputs": [],
   "source": [
    "movies_engagement = spark.sql(\"select entities.urls[0].display_url as movie, \"+\\\n",
    "               \"sum(favorite_count) + sum(retweet_count) as engagement \"\n",
    "               \"from tweets \"+\\\n",
    "               \"group by entities.urls[0].display_url \"+\\\n",
    "                \"order by engagement DESC\")\n",
    "\n",
    "#using temp table to get engagements per movie"
   ]
  },
  {
   "cell_type": "code",
   "execution_count": 38,
   "metadata": {
    "collapsed": false,
    "deletable": true,
    "editable": true
   },
   "outputs": [],
   "source": [
    "movies_engagement.registerTempTable(\"past\")"
   ]
  },
  {
   "cell_type": "markdown",
   "metadata": {
    "deletable": true,
    "editable": true
   },
   "source": [
    "## Task 3"
   ]
  },
  {
   "cell_type": "code",
   "execution_count": 48,
   "metadata": {
    "collapsed": false,
    "deletable": true,
    "editable": true
   },
   "outputs": [],
   "source": [
    "#calculate the average past popularity of movies tweeted about within an hour\n",
    "ssc = StreamingContext(sc, 10)\n",
    "\n",
    "#creates a DStream of incoming batches\n",
    "tweetRDD = ssc.textFileStream(\"file:///root/wcstream/\")\n",
    "tweetLineRDD = tweetRDD.flatMap(lambda tweet: tweet.split(\"|\"))\n",
    "tweetSepRDD = tweetLineRDD.map(lambda tweet: (tweet.split(\",\")[3]\\\n",
    "                                              ,retEng(tweet)))\n",
    "tweetWindowRDD = tweetSepRDD.window(20, 10)\n",
    "\n",
    "tweetReduceRDD = tweetWindowRDD.reduceByKey(lambda x, y: x + y)"
   ]
  },
  {
   "cell_type": "code",
   "execution_count": 49,
   "metadata": {
    "collapsed": false,
    "deletable": true,
    "editable": true
   },
   "outputs": [
    {
     "name": "stdout",
     "output_type": "stream",
     "text": [
      "========= 2017-04-24 01:41:40 =========\n",
      "========= 2017-04-24 01:41:50 =========\n",
      "+------------------------+-------+\n",
      "|movieid                 |average|\n",
      "+------------------------+-------+\n",
      "|imdb.com/title/tt1045658|9.5    |\n",
      "|imdb.com/title/tt1623205|9.0    |\n",
      "|imdb.com/title/tt0454876|7.5    |\n",
      "|imdb.com/title/tt1659337|5.5    |\n",
      "|imdb.com/title/tt1024648|5.5    |\n",
      "|imdb.com/title/tt0840361|4.5    |\n",
      "|imdb.com/title/tt0151804|3.5    |\n",
      "|imdb.com/title/tt0903624|3.0    |\n",
      "|imdb.com/title/tt1637725|2.5    |\n",
      "|imdb.com/title/tt1853728|2.5    |\n",
      "|imdb.com/title/tt2106476|2.5    |\n",
      "|imdb.com/title/tt1673434|2.5    |\n",
      "|imdb.com/title/tt0110912|2.5    |\n",
      "|imdb.com/title/tt0111161|2.5    |\n",
      "|imdb.com/title/tt1673697|2.0    |\n",
      "|imdb.com/title/tt1371111|2.0    |\n",
      "|imdb.com/title/tt2053463|2.0    |\n",
      "|imdb.com/title/tt2101341|1.5    |\n",
      "|imdb.com/title/tt0040746|1.5    |\n",
      "|imdb.com/title/tt1702439|1.5    |\n",
      "+------------------------+-------+\n",
      "only showing top 20 rows\n",
      "\n",
      "========= 2017-04-24 01:42:00 =========\n",
      "+------------------------+-------+\n",
      "|movieid                 |average|\n",
      "+------------------------+-------+\n",
      "|imdb.com/title/tt1045658|9.5    |\n",
      "|imdb.com/title/tt1623205|9.0    |\n",
      "|imdb.com/title/tt0454876|7.5    |\n",
      "|imdb.com/title/tt1659337|5.5    |\n",
      "|imdb.com/title/tt1024648|5.5    |\n",
      "|imdb.com/title/tt0840361|4.5    |\n",
      "|imdb.com/title/tt0151804|3.5    |\n",
      "|imdb.com/title/tt0903624|3.0    |\n",
      "|imdb.com/title/tt2106476|2.5    |\n",
      "|imdb.com/title/tt0111161|2.5    |\n",
      "|imdb.com/title/tt1673434|2.5    |\n",
      "|imdb.com/title/tt1637725|2.5    |\n",
      "|imdb.com/title/tt1853728|2.5    |\n",
      "|imdb.com/title/tt0110912|2.5    |\n",
      "|imdb.com/title/tt1673697|2.0    |\n",
      "|imdb.com/title/tt1371111|2.0    |\n",
      "|imdb.com/title/tt2053463|2.0    |\n",
      "|imdb.com/title/tt2101341|1.5    |\n",
      "|imdb.com/title/tt0765443|1.5    |\n",
      "|imdb.com/title/tt0040746|1.5    |\n",
      "+------------------------+-------+\n",
      "only showing top 20 rows\n",
      "\n"
     ]
    }
   ],
   "source": [
    "tweetReduceRDD.foreachRDD(getAverage)\n",
    "\n",
    "ssc.start()\n",
    "time.sleep(40)\n",
    "ssc.stop(False)"
   ]
  },
  {
   "cell_type": "markdown",
   "metadata": {
    "deletable": true,
    "editable": true
   },
   "source": [
    "## Task 4"
   ]
  },
  {
   "cell_type": "code",
   "execution_count": 43,
   "metadata": {
    "collapsed": true,
    "deletable": true,
    "editable": true
   },
   "outputs": [],
   "source": [
    "#calculate the total engagement recieved per hour\n",
    "\n",
    "ssc = StreamingContext(sc, 10)\n",
    "\n",
    "tweetRDD = ssc.textFileStream(\"file:///root/wcstream/\")\n",
    "tweetLinesRDD = tweetRDD.flatMap(lambda tweet : tweet.split(\"|\"))\n",
    "tweetSepRDD = tweetLinesRDD.map(lambda tweet: (\"total engagement\", retEng(tweet)))\n",
    "tweetWindowRDD = tweetSepRDD.window(10, 10)\n",
    "\n",
    "tweetReduceRDD = tweetWindowRDD.reduceByKey(lambda x, y: x + y)"
   ]
  },
  {
   "cell_type": "code",
   "execution_count": 44,
   "metadata": {
    "collapsed": false,
    "deletable": true,
    "editable": true
   },
   "outputs": [
    {
     "name": "stdout",
     "output_type": "stream",
     "text": [
      "========= 2017-04-24 00:52:40 =========\n",
      "========= 2017-04-24 00:52:50 =========\n",
      "+---------------------+-----+\n",
      "|time                 |total|\n",
      "+---------------------+-----+\n",
      "|2017-04-24 00:52:50.0|109  |\n",
      "+---------------------+-----+\n",
      "\n",
      "========= 2017-04-24 00:53:00 =========\n",
      "========= 2017-04-24 00:53:10 =========\n",
      "+---------------------+-----+\n",
      "|time                 |total|\n",
      "+---------------------+-----+\n",
      "|2017-04-24 00:53:10.0|177  |\n",
      "+---------------------+-----+\n",
      "\n",
      "========= 2017-04-24 00:53:20 =========\n",
      "+---------------------+-----+\n",
      "|time                 |total|\n",
      "+---------------------+-----+\n",
      "|2017-04-24 00:53:20.0|145  |\n",
      "+---------------------+-----+\n",
      "\n"
     ]
    }
   ],
   "source": [
    "tweetReduceRDD.foreachRDD(getTotEng)\n",
    "\n",
    "ssc.start()\n",
    "time.sleep(50)\n",
    "ssc.stop(False)"
   ]
  },
  {
   "cell_type": "markdown",
   "metadata": {
    "deletable": true,
    "editable": true
   },
   "source": [
    "## Task 5"
   ]
  },
  {
   "cell_type": "code",
   "execution_count": 21,
   "metadata": {
    "collapsed": true,
    "deletable": true,
    "editable": true
   },
   "outputs": [],
   "source": [
    "#number of user tweets with and without engagements, per user, per hour\n",
    "ssc = StreamingContext(sc, 5)\n",
    "\n",
    "lines = ssc.textFileStream(\"file:///root/wcstream/\")\n",
    "words = lines.flatMap(lambda line: line.split(\"|\"))\n",
    "pairs = words.map(lambda word: ((word.split(\",\")[0], word.split(\",\")[6]),retEng(word)))\n",
    "pairsWindowed = pairs.window(20, 10)\n",
    "\n",
    "wordCounts = pairsWindowed.reduceByKey(lambda x, y: x + y)"
   ]
  },
  {
   "cell_type": "code",
   "execution_count": 22,
   "metadata": {
    "collapsed": false,
    "deletable": true,
    "editable": true
   },
   "outputs": [
    {
     "name": "stdout",
     "output_type": "stream",
     "text": [
      "========= 2017-04-23 23:56:15 =========\n",
      "========= 2017-04-23 23:56:25 =========\n",
      "+----+------+---------------+\n",
      "| eng|noneng|         userid|\n",
      "+----+------+---------------+\n",
      "|null|     1|       pixeldim|\n",
      "|null|     1|     ShiftyGreg|\n",
      "|null|     2|      sebutiban|\n",
      "|   1|  null|        jensees|\n",
      "|null|     3|patrickdconinck|\n",
      "|null|     1|PeppermintShore|\n",
      "|null|     2|     Jordi_lord|\n",
      "|null|     2|   shereefislam|\n",
      "|null|     5| ShahnazarShant|\n",
      "|null|     1|      chropkins|\n",
      "|null|     1|       jrsevans|\n",
      "|null|     1|  Robiinderooij|\n",
      "|null|    10|       _Afinso_|\n",
      "|null|     1|    Caprini2029|\n",
      "|null|     1|          I_Hmz|\n",
      "|null|     2|        Uddin83|\n",
      "|null|     1|      Danizio76|\n",
      "|null|     8| mookieineugene|\n",
      "|null|     1|       sengming|\n",
      "|null|     2|    MyrvoldAlex|\n",
      "+----+------+---------------+\n",
      "only showing top 20 rows\n",
      "\n",
      "========= 2017-04-23 23:56:35 =========\n",
      "+----+------+---------------+\n",
      "| eng|noneng|         userid|\n",
      "+----+------+---------------+\n",
      "|null|     1|       pixeldim|\n",
      "|null|     1|     ShiftyGreg|\n",
      "|null|     2|      sebutiban|\n",
      "|   1|  null|        jensees|\n",
      "|null|     3|patrickdconinck|\n",
      "|null|     1|PeppermintShore|\n",
      "|null|     2|     Jordi_lord|\n",
      "|null|     2|   shereefislam|\n",
      "|null|     5| ShahnazarShant|\n",
      "|null|     1|      chropkins|\n",
      "|null|     1|       jrsevans|\n",
      "|null|     1|  Robiinderooij|\n",
      "|null|    10|       _Afinso_|\n",
      "|null|     1|    Caprini2029|\n",
      "|null|     1|          I_Hmz|\n",
      "|null|     2|        Uddin83|\n",
      "|null|     1|      Danizio76|\n",
      "|null|     8| mookieineugene|\n",
      "|null|     1|       sengming|\n",
      "|null|     2|    MyrvoldAlex|\n",
      "+----+------+---------------+\n",
      "only showing top 20 rows\n",
      "\n",
      "========= 2017-04-23 23:56:45 =========\n",
      "========= 2017-04-23 23:56:55 =========\n",
      "========= 2017-04-23 23:57:05 =========\n"
     ]
    }
   ],
   "source": [
    "wordCounts.foreachRDD(tweetsZeroNonZero)\n",
    "\n",
    "ssc.start()\n",
    "time.sleep(60)\n",
    "ssc.stop(False)"
   ]
  }
 ],
 "metadata": {
  "kernelspec": {
   "display_name": "Python 2",
   "language": "python",
   "name": "python2"
  },
  "language_info": {
   "codemirror_mode": {
    "name": "ipython",
    "version": 2
   },
   "file_extension": ".py",
   "mimetype": "text/x-python",
   "name": "python",
   "nbconvert_exporter": "python",
   "pygments_lexer": "ipython2",
   "version": "2.7.12"
  }
 },
 "nbformat": 4,
 "nbformat_minor": 2
}
