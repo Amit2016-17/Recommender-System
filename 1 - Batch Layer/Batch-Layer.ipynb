{
 "cells": [
  {
   "cell_type": "code",
   "execution_count": 8,
   "metadata": {
    "collapsed": true,
    "deletable": true,
    "editable": true
   },
   "outputs": [],
   "source": [
    "from pyspark.sql import functions as F"
   ]
  },
  {
   "cell_type": "code",
   "execution_count": 9,
   "metadata": {
    "collapsed": false,
    "deletable": true,
    "editable": true
   },
   "outputs": [],
   "source": [
    "dataset = spark.read.json(\"twitter.medium\")"
   ]
  },
  {
   "cell_type": "markdown",
   "metadata": {
    "deletable": true,
    "editable": true
   },
   "source": [
    "A function to parse date:"
   ]
  },
  {
   "cell_type": "code",
   "execution_count": 10,
   "metadata": {
    "collapsed": false,
    "deletable": true,
    "editable": true
   },
   "outputs": [],
   "source": [
    "from datetime import datetime\n",
    "from operator import add\n",
    "\n",
    "def parse_date(date_field):\n",
    "    date_parts = date_field.split()\n",
    "    date_str = \"%s/%s/%s:%s\" % (date_parts[2],\n",
    "                                date_parts[1],\n",
    "                                date_parts[5],\n",
    "                                date_parts[3])\n",
    "    return datetime.strptime(date_str, '%d/%b/%Y:%H:%M:%S')"
   ]
  },
  {
   "cell_type": "markdown",
   "metadata": {
    "deletable": true,
    "editable": true
   },
   "source": [
    "Register temp table for SQL:"
   ]
  },
  {
   "cell_type": "code",
   "execution_count": 11,
   "metadata": {
    "collapsed": true,
    "deletable": true,
    "editable": true
   },
   "outputs": [],
   "source": [
    "dataset.registerTempTable(\"tweets\")"
   ]
  },
  {
   "cell_type": "markdown",
   "metadata": {
    "deletable": true,
    "editable": true
   },
   "source": [
    "# Tweets-oriented"
   ]
  },
  {
   "cell_type": "markdown",
   "metadata": {
    "deletable": true,
    "editable": true
   },
   "source": [
    "Tweets per day, month, year"
   ]
  },
  {
   "cell_type": "code",
   "execution_count": 14,
   "metadata": {
    "collapsed": false,
    "deletable": true,
    "editable": true
   },
   "outputs": [
    {
     "data": {
      "text/plain": [
       "[('2013-03-07', 452),\n",
       " ('2013-03-10', 741),\n",
       " ('2013-03-05', 419),\n",
       " ('2013-03-03', 819),\n",
       " ('2013-03-16', 585)]"
      ]
     },
     "execution_count": 14,
     "metadata": {},
     "output_type": "execute_result"
    }
   ],
   "source": [
    "\n",
    "tweets_per_day = dataset.rdd.map(lambda x: (parse_date(x.created_at).strftime(\"%Y-%m-%d\"), 1)).reduceByKey(add)\n",
    "tweets_per_day.take(5)\n"
   ]
  },
  {
   "cell_type": "markdown",
   "metadata": {
    "deletable": true,
    "editable": true
   },
   "source": [
    "Interactions per day, month, year"
   ]
  },
  {
   "cell_type": "code",
   "execution_count": 15,
   "metadata": {
    "collapsed": false,
    "deletable": true,
    "editable": true
   },
   "outputs": [
    {
     "data": {
      "text/plain": [
       "[('2011-01-14', 0),\n",
       " ('2008-10-21', 0),\n",
       " ('2008-11-28', 0),\n",
       " ('2008-08-15', 0),\n",
       " ('2010-06-16', 0)]"
      ]
     },
     "execution_count": 15,
     "metadata": {},
     "output_type": "execute_result"
    }
   ],
   "source": [
    "interactions_per_day = dataset.rdd.map(lambda x: (parse_date(x.user.created_at).strftime(\"%Y-%m-%d\"), x.favorite_count + x.retweet_count)).reduceByKey(add)\n",
    "interactions_per_day.take(5)"
   ]
  },
  {
   "cell_type": "markdown",
   "metadata": {
    "deletable": true,
    "editable": true
   },
   "source": [
    "# Movies-oriented"
   ]
  },
  {
   "cell_type": "markdown",
   "metadata": {
    "deletable": true,
    "editable": true
   },
   "source": [
    "Tweets per movie per day"
   ]
  },
  {
   "cell_type": "code",
   "execution_count": null,
   "metadata": {
    "collapsed": false,
    "deletable": true,
    "editable": true
   },
   "outputs": [],
   "source": [
    "movies_tweets_per_day = dataset.rdd.map(lambda x: ((x.entities.urls[0].display_url, parse_date(x.user.created_at).strftime(\"%Y-%m-%d\")), 1)).reduceByKey(add)"
   ]
  },
  {
   "cell_type": "markdown",
   "metadata": {
    "deletable": true,
    "editable": true
   },
   "source": [
    "Engagement per movie"
   ]
  },
  {
   "cell_type": "code",
   "execution_count": null,
   "metadata": {
    "collapsed": false,
    "deletable": true,
    "editable": true
   },
   "outputs": [],
   "source": [
    "movies_engagement = spark.sql(\"select entities.urls[0].display_url as movie, \"+\\\n",
    "               \"sum(favorite_count) + sum(retweet_count) as engagement \"\n",
    "               \"from tweets \"+\\\n",
    "               \"group by entities.urls[0].display_url\")"
   ]
  },
  {
   "cell_type": "markdown",
   "metadata": {
    "deletable": true,
    "editable": true
   },
   "source": [
    "Popularity per movie per language:"
   ]
  },
  {
   "cell_type": "code",
   "execution_count": null,
   "metadata": {
    "collapsed": false,
    "deletable": true,
    "editable": true
   },
   "outputs": [],
   "source": [
    "movies_language_pop = dataset.select(F.explode(\"entities.urls\").alias(\"col\"), F.col(\"lang\").alias(\"language\"))\\\n",
    "    .select(F.col(\"col.display_url\").alias(\"movie\"), \"language\")\\\n",
    "    .groupBy(\"movie\", \"language\")\\\n",
    "    .count()"
   ]
  },
  {
   "cell_type": "markdown",
   "metadata": {
    "deletable": true,
    "editable": true
   },
   "source": [
    "# Users-oriented"
   ]
  },
  {
   "cell_type": "markdown",
   "metadata": {
    "deletable": true,
    "editable": true
   },
   "source": [
    "Number of followers, favourites, statuses and listings per user, oldest and newest data:"
   ]
  },
  {
   "cell_type": "code",
   "execution_count": null,
   "metadata": {
    "collapsed": false,
    "deletable": true,
    "editable": true
   },
   "outputs": [],
   "source": [
    "user_stats = spark.sql(\"select x.screen_name, \" \\\n",
    "          + \"t1.user.followers_count as old_followers, t1.user.favourites_count as old_favourites, t1.user.statuses_count as old_statuses, t1.user.listed_count as old_listed, \" \\\n",
    "          + \"t2.user.followers_count as new_followers, t2.user.favourites_count as new_favourites, t2.user.statuses_count as new_statuses, t2.user.listed_count as new_listed \" \\\n",
    "          + \"from (select user.screen_name, max(created_at) as new, min(created_at) as old from tweets group by user.screen_name) x \" \n",
    "          + \"join tweets t1 on t1.user.screen_name = x.screen_name and t1.created_at = x.old \" \\\n",
    "          + \"join tweets t2 on t2.user.screen_name = x.screen_name and t2.created_at = x.new\")\n"
   ]
  }
 ],
 "metadata": {
  "kernelspec": {
   "display_name": "Python 2",
   "language": "python",
   "name": "python2"
  },
  "language_info": {
   "codemirror_mode": {
    "name": "ipython",
    "version": 2
   },
   "file_extension": ".py",
   "mimetype": "text/x-python",
   "name": "python",
   "nbconvert_exporter": "python",
   "pygments_lexer": "ipython2",
   "version": "2.7.12"
  }
 },
 "nbformat": 4,
 "nbformat_minor": 0
}
